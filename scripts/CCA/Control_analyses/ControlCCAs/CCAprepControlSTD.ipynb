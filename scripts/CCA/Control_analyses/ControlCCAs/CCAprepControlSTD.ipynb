{
 "cells": [
  {
   "cell_type": "code",
   "execution_count": 1,
   "metadata": {},
   "outputs": [],
   "source": [
    "# control analysis with BOLD signal variability\n",
    "import pandas as pd\n",
    "from nilearn import plotting, image, datasets\n",
    "from nilearn.maskers import NiftiMapsMasker\n",
    "import nibabel as nib\n",
    "\n",
    "# load subList of subjects with PLV data\n",
    "with open('subList.txt') as f:\n",
    "    subjects = f.read().split('\\n')\n",
    "    \n",
    "# remove subjects rejected from mriqc:\n",
    "subs2rej = [\"0019\", \"0034\", \"0039\", \"0132\", \"0138\", \"0180\", \"0229\", \"0397\", \"0419\", \"0437\", \"0587\", \"0351\", \"0388\", \"0454\", \"0485\", \"0173\", \"0207\", \"0036\", \"0223\", \"0187\", \"0237\", \"0273\", \"0287\"] \n",
    "subjects = [subject for subject in subjects if subject not in subs2rej]\n",
    "\n",
    "#subjects = subjects[0:2]\n",
    "\n",
    "dim = 256\n",
    "all_subjects_cols = ['subject'] + [f'parcel_{i+1}' for i in range(dim)]\n",
    "all_subjects = pd.DataFrame(columns=all_subjects_cols)\n",
    "for subject in subjects:\n",
    "\n",
    "    if subject == \"\":\n",
    "        continue\n",
    "    \n",
    "    # load BOLD signal variability (standard deviation of timeseries post-retroicor/confound regressors removed)\n",
    "    data_path = \"/mnt/fast_scratch/StomachBrain/data/fMRI_timeseries\"\n",
    "    STD_path = f\"{data_path}/sub-{subject}/sub-{subject}_STDxVoxel_RP.nii.gz\"\n",
    "    STD_img = nib.load(STD_path)\n",
    "\n",
    "    # load Dictionaries of Functional Modes (“DiFuMo”) atlas\n",
    "    difumo = datasets.fetch_atlas_difumo(dimension=dim, resolution_mm=3)\n",
    "\n",
    "    # Create a masker object for difumo - with mask\n",
    "    masker = NiftiMapsMasker(maps_img=difumo.maps) \n",
    "\n",
    "    # Extract the parcellated regions\n",
    "    STD_parcels = masker.fit_transform(STD_img)\n",
    "    \n",
    "    # Append the subject and STD_parcels to the DataFrame\n",
    "    subject_data = [subject] + list(STD_parcels[0])\n",
    "    all_subjects = all_subjects.append(pd.Series(subject_data, index=all_subjects_cols), ignore_index=True)\n",
    "\n",
    "save_path = '/home/leah/Git/StomachBrain/StomachBrainCCA/data/'  \n",
    "all_subjects.to_csv(save_path + f'controlSTD_difumo{dim}_mriqc.csv', index=False)"
   ]
  }
 ],
 "metadata": {
  "kernelspec": {
   "display_name": "base",
   "language": "python",
   "name": "python3"
  },
  "language_info": {
   "codemirror_mode": {
    "name": "ipython",
    "version": 3
   },
   "file_extension": ".py",
   "mimetype": "text/x-python",
   "name": "python",
   "nbconvert_exporter": "python",
   "pygments_lexer": "ipython3",
   "version": "3.8.8"
  },
  "orig_nbformat": 4
 },
 "nbformat": 4,
 "nbformat_minor": 2
}
